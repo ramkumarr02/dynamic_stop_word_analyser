{
 "cells": [
  {
   "cell_type": "code",
   "execution_count": 1,
   "metadata": {},
   "outputs": [],
   "source": [
    "from utils.packages import *\n",
    "from utils.functions import *"
   ]
  },
  {
   "cell_type": "code",
   "execution_count": 2,
   "metadata": {},
   "outputs": [
    {
     "data": {
      "text/plain": [
       "['chrisitv', 'https', 'and', 'https']"
      ]
     },
     "execution_count": 2,
     "metadata": {},
     "output_type": "execute_result"
    }
   ],
   "source": [
    "df = pd.read_csv('data/Corona_NLP_train.csv', encoding = \"ISO-8859-1\")\n",
    "\n",
    "df = df[['OriginalTweet', 'Sentiment']]\n",
    "df['OriginalTweet'] = df['OriginalTweet'] + \" § \"\n",
    "text = df['OriginalTweet'].str.lower().to_csv(sep=' ', index=False, header=False).lower()\n",
    "\n",
    "full_tokens = word_tokenize(text)\n",
    "tokens = [word for word in full_tokens if word.isalpha()]\n",
    "tokens = [word for word in tokens if len(word)>1]   \n",
    "\n",
    "tokens[1:5]"
   ]
  },
  {
   "cell_type": "code",
   "execution_count": 4,
   "metadata": {},
   "outputs": [
    {
     "name": "stdout",
     "output_type": "stream",
     "text": [
      "---------------------------------- Analysis Results ----------------------------------\n",
      "1. Most frequent 859 unique words, which are 2.0% of the total distinct words, are contributing to the 75% of the total corpus.\n",
      "2. Least frequent 45536 unique words, which are 92.0% of the total distinct words, are contributing only to the bottom 10% of the total corpus.\n",
      "--------------------------------------------\n",
      "   num_of_words  dist_words%  corpus%\n",
      "0           859          2.0       75\n",
      "1          1347          3.0       80\n",
      "2          2204          4.0       85\n",
      "3          3961          8.0       90\n",
      "4          9206         19.0       95\n",
      "5         43746         88.0      100\n",
      "--------------------\n",
      "num_of_words : Distinct count of Top-most frequent words\n",
      "dist_words%  : num_of_words / total distinct words in corpus\n",
      "corpus%      : Total count of num_of_words / Total number of words in corpus\n",
      "--------------------------------------------\n"
     ]
    },
    {
     "data": {
      "image/png": "[encoded data removed]",
      "text/plain": [
       "<Figure size 1080x360 with 1 Axes>"
      ]
     },
     "metadata": {
      "needs_background": "light"
     },
     "output_type": "display_data"
    }
   ],
   "source": [
    "freqdf, small_freq_df, df_report = dynamic_stop_word_analyzer(tokens)"
   ]
  },
  {
   "cell_type": "code",
   "execution_count": 10,
   "metadata": {},
   "outputs": [
    {
     "data": {
      "text/html": [
       "<div>\n",
       "<style scoped>\n",
       "    .dataframe tbody tr th:only-of-type {\n",
       "        vertical-align: middle;\n",
       "    }\n",
       "\n",
       "    .dataframe tbody tr th {\n",
       "        vertical-align: top;\n",
       "    }\n",
       "\n",
       "    .dataframe thead th {\n",
       "        text-align: right;\n",
       "    }\n",
       "</style>\n",
       "<table border=\"1\" class=\"dataframe\">\n",
       "  <thead>\n",
       "    <tr style=\"text-align: right;\">\n",
       "      <th></th>\n",
       "      <th>num_of_words</th>\n",
       "      <th>dist_words%</th>\n",
       "      <th>corpus%</th>\n",
       "    </tr>\n",
       "  </thead>\n",
       "  <tbody>\n",
       "    <tr>\n",
       "      <th>0</th>\n",
       "      <td>859</td>\n",
       "      <td>2.0</td>\n",
       "      <td>75</td>\n",
       "    </tr>\n",
       "    <tr>\n",
       "      <th>1</th>\n",
       "      <td>1347</td>\n",
       "      <td>3.0</td>\n",
       "      <td>80</td>\n",
       "    </tr>\n",
       "    <tr>\n",
       "      <th>2</th>\n",
       "      <td>2204</td>\n",
       "      <td>4.0</td>\n",
       "      <td>85</td>\n",
       "    </tr>\n",
       "    <tr>\n",
       "      <th>3</th>\n",
       "      <td>3961</td>\n",
       "      <td>8.0</td>\n",
       "      <td>90</td>\n",
       "    </tr>\n",
       "    <tr>\n",
       "      <th>4</th>\n",
       "      <td>9206</td>\n",
       "      <td>19.0</td>\n",
       "      <td>95</td>\n",
       "    </tr>\n",
       "    <tr>\n",
       "      <th>5</th>\n",
       "      <td>43746</td>\n",
       "      <td>88.0</td>\n",
       "      <td>100</td>\n",
       "    </tr>\n",
       "  </tbody>\n",
       "</table>\n",
       "</div>"
      ],
      "text/plain": [
       "   num_of_words  dist_words%  corpus%\n",
       "0           859          2.0       75\n",
       "1          1347          3.0       80\n",
       "2          2204          4.0       85\n",
       "3          3961          8.0       90\n",
       "4          9206         19.0       95\n",
       "5         43746         88.0      100"
      ]
     },
     "execution_count": 10,
     "metadata": {},
     "output_type": "execute_result"
    }
   ],
   "source": [
    "df_report"
   ]
  },
  {
   "cell_type": "code",
   "execution_count": 5,
   "metadata": {},
   "outputs": [
    {
     "data": {
      "text/html": [
       "<div>\n",
       "<style scoped>\n",
       "    .dataframe tbody tr th:only-of-type {\n",
       "        vertical-align: middle;\n",
       "    }\n",
       "\n",
       "    .dataframe tbody tr th {\n",
       "        vertical-align: top;\n",
       "    }\n",
       "\n",
       "    .dataframe thead th {\n",
       "        text-align: right;\n",
       "    }\n",
       "</style>\n",
       "<table border=\"1\" class=\"dataframe\">\n",
       "  <thead>\n",
       "    <tr style=\"text-align: right;\">\n",
       "      <th></th>\n",
       "      <th>sno</th>\n",
       "      <th>word</th>\n",
       "      <th>count</th>\n",
       "      <th>distinct_word_%</th>\n",
       "      <th>cumsum</th>\n",
       "      <th>corpus_%</th>\n",
       "    </tr>\n",
       "  </thead>\n",
       "  <tbody>\n",
       "    <tr>\n",
       "      <th>75</th>\n",
       "      <td>76</td>\n",
       "      <td>home</td>\n",
       "      <td>2230</td>\n",
       "      <td>0.0</td>\n",
       "      <td>510258</td>\n",
       "      <td>44.0</td>\n",
       "    </tr>\n",
       "    <tr>\n",
       "      <th>76</th>\n",
       "      <td>77</td>\n",
       "      <td>some</td>\n",
       "      <td>2160</td>\n",
       "      <td>0.0</td>\n",
       "      <td>512418</td>\n",
       "      <td>45.0</td>\n",
       "    </tr>\n",
       "    <tr>\n",
       "      <th>77</th>\n",
       "      <td>78</td>\n",
       "      <td>help</td>\n",
       "      <td>2136</td>\n",
       "      <td>0.0</td>\n",
       "      <td>514554</td>\n",
       "      <td>45.0</td>\n",
       "    </tr>\n",
       "    <tr>\n",
       "      <th>78</th>\n",
       "      <td>79</td>\n",
       "      <td>hand</td>\n",
       "      <td>2065</td>\n",
       "      <td>0.0</td>\n",
       "      <td>516619</td>\n",
       "      <td>45.0</td>\n",
       "    </tr>\n",
       "    <tr>\n",
       "      <th>79</th>\n",
       "      <td>80</td>\n",
       "      <td>stock</td>\n",
       "      <td>1974</td>\n",
       "      <td>0.0</td>\n",
       "      <td>518593</td>\n",
       "      <td>45.0</td>\n",
       "    </tr>\n",
       "  </tbody>\n",
       "</table>\n",
       "</div>"
      ],
      "text/plain": [
       "    sno   word  count  distinct_word_%  cumsum  corpus_%\n",
       "75   76   home   2230              0.0  510258      44.0\n",
       "76   77   some   2160              0.0  512418      45.0\n",
       "77   78   help   2136              0.0  514554      45.0\n",
       "78   79   hand   2065              0.0  516619      45.0\n",
       "79   80  stock   1974              0.0  518593      45.0"
      ]
     },
     "execution_count": 5,
     "metadata": {},
     "output_type": "execute_result"
    }
   ],
   "source": [
    "x = 75\n",
    "freqdf[x:x+5]"
   ]
  },
  {
   "cell_type": "code",
   "execution_count": 6,
   "metadata": {},
   "outputs": [
    {
     "data": {
      "text/html": [
       "<div>\n",
       "<style scoped>\n",
       "    .dataframe tbody tr th:only-of-type {\n",
       "        vertical-align: middle;\n",
       "    }\n",
       "\n",
       "    .dataframe tbody tr th {\n",
       "        vertical-align: top;\n",
       "    }\n",
       "\n",
       "    .dataframe thead th {\n",
       "        text-align: right;\n",
       "    }\n",
       "</style>\n",
       "<table border=\"1\" class=\"dataframe\">\n",
       "  <thead>\n",
       "    <tr style=\"text-align: right;\">\n",
       "      <th></th>\n",
       "      <th>sno</th>\n",
       "      <th>word</th>\n",
       "      <th>count</th>\n",
       "      <th>distinct_word_%</th>\n",
       "      <th>cumsum</th>\n",
       "      <th>corpus_%</th>\n",
       "    </tr>\n",
       "  </thead>\n",
       "  <tbody>\n",
       "    <tr>\n",
       "      <th>2452</th>\n",
       "      <td>2453</td>\n",
       "      <td>infections</td>\n",
       "      <td>43</td>\n",
       "      <td>5.0</td>\n",
       "      <td>983491</td>\n",
       "      <td>86.0</td>\n",
       "    </tr>\n",
       "    <tr>\n",
       "      <th>2742</th>\n",
       "      <td>2743</td>\n",
       "      <td>paycheck</td>\n",
       "      <td>37</td>\n",
       "      <td>6.0</td>\n",
       "      <td>995019</td>\n",
       "      <td>87.0</td>\n",
       "    </tr>\n",
       "    <tr>\n",
       "      <th>3077</th>\n",
       "      <td>3078</td>\n",
       "      <td>division</td>\n",
       "      <td>32</td>\n",
       "      <td>6.0</td>\n",
       "      <td>1006506</td>\n",
       "      <td>88.0</td>\n",
       "    </tr>\n",
       "    <tr>\n",
       "      <th>3476</th>\n",
       "      <td>3477</td>\n",
       "      <td>telehealth</td>\n",
       "      <td>26</td>\n",
       "      <td>7.0</td>\n",
       "      <td>1017993</td>\n",
       "      <td>89.0</td>\n",
       "    </tr>\n",
       "    <tr>\n",
       "      <th>3960</th>\n",
       "      <td>3961</td>\n",
       "      <td>diabetes</td>\n",
       "      <td>22</td>\n",
       "      <td>8.0</td>\n",
       "      <td>1029499</td>\n",
       "      <td>90.0</td>\n",
       "    </tr>\n",
       "  </tbody>\n",
       "</table>\n",
       "</div>"
      ],
      "text/plain": [
       "       sno        word  count  distinct_word_%   cumsum  corpus_%\n",
       "2452  2453  infections     43              5.0   983491      86.0\n",
       "2742  2743    paycheck     37              6.0   995019      87.0\n",
       "3077  3078    division     32              6.0  1006506      88.0\n",
       "3476  3477  telehealth     26              7.0  1017993      89.0\n",
       "3960  3961    diabetes     22              8.0  1029499      90.0"
      ]
     },
     "execution_count": 6,
     "metadata": {},
     "output_type": "execute_result"
    }
   ],
   "source": [
    "small_freq_df[x:x+5]"
   ]
  },
  {
   "cell_type": "code",
   "execution_count": 7,
   "metadata": {},
   "outputs": [
    {
     "name": "stdout",
     "output_type": "stream",
     "text": [
      "-----------------------------\n",
      "non_stop_words_list has 2203 words e.g.(['shared', 'distribute', 'walk', 'waiting'])\n",
      "stop_words_list has 47045 words e.g.(['closings', 'tablespoon', 'wechat', 'mbagathi'])\n",
      "-----------------------------\n"
     ]
    }
   ],
   "source": [
    "corpus_perc_threshold = 85\n",
    "stop_words_skip_list = []\n",
    "\n",
    "stop_words_list, non_stop_words_list = get_dynamic_stop_words_list(freqdf, corpus_perc_threshold, stop_words_skip_list)"
   ]
  },
  {
   "cell_type": "code",
   "execution_count": 13,
   "metadata": {
    "scrolled": true
   },
   "outputs": [
    {
     "name": "stdout",
     "output_type": "stream",
     "text": [
      "Number of words in corpus before dynamic stopword removal : 760872 (distinct : 49357)\n",
      "Number of words in corpus before dynamic stopword removal : 583085 (distinct : 2086)\n"
     ]
    }
   ],
   "source": [
    "nltk_stopwords = stopwords.words('english')\n",
    "\n",
    "tokens = [word for word in full_tokens if word == \"§\" or word.isalpha()]\n",
    "tokens = [word for word in tokens if word == \"§\" or len(word)>1]\n",
    "tokens = [word for word in tokens if word == \"§\" or word not in nltk_stopwords]\n",
    "\n",
    "print(f'Number of words in corpus before dynamic stopword removal : {len(tokens)} (distinct : {len(set(tokens))})')\n",
    "tokens = [word for word in tokens if word == \"§\" or word in non_stop_words_list]\n",
    "print(f'Number of words in corpus before dynamic stopword removal : {len(tokens)} (distinct : {len(set(tokens))})')\n",
    "\n",
    "message, joined_message = create_tokens_list_of_list(tokens)\n",
    "\n",
    "df['reduced_tweet'] = joined_message"
   ]
  },
  {
   "cell_type": "code",
   "execution_count": 9,
   "metadata": {
    "scrolled": true
   },
   "outputs": [
    {
     "data": {
      "text/html": [
       "<div>\n",
       "<style scoped>\n",
       "    .dataframe tbody tr th:only-of-type {\n",
       "        vertical-align: middle;\n",
       "    }\n",
       "\n",
       "    .dataframe tbody tr th {\n",
       "        vertical-align: top;\n",
       "    }\n",
       "\n",
       "    .dataframe thead th {\n",
       "        text-align: right;\n",
       "    }\n",
       "</style>\n",
       "<table border=\"1\" class=\"dataframe\">\n",
       "  <thead>\n",
       "    <tr style=\"text-align: right;\">\n",
       "      <th></th>\n",
       "      <th>OriginalTweet</th>\n",
       "      <th>Sentiment</th>\n",
       "      <th>reduced_tweet</th>\n",
       "    </tr>\n",
       "  </thead>\n",
       "  <tbody>\n",
       "    <tr>\n",
       "      <th>0</th>\n",
       "      <td>@MeNyrbie @Phil_Gahan @Chrisitv https://t.co/i...</td>\n",
       "      <td>Neutral</td>\n",
       "      <td>https https https</td>\n",
       "    </tr>\n",
       "    <tr>\n",
       "      <th>1</th>\n",
       "      <td>advice Talk to your neighbours family to excha...</td>\n",
       "      <td>Positive</td>\n",
       "      <td>advice talk family phone numbers create contac...</td>\n",
       "    </tr>\n",
       "    <tr>\n",
       "      <th>2</th>\n",
       "      <td>Coronavirus Australia: Woolworths to give elde...</td>\n",
       "      <td>Positive</td>\n",
       "      <td>coronavirus australia woolworths give elderly ...</td>\n",
       "    </tr>\n",
       "    <tr>\n",
       "      <th>3</th>\n",
       "      <td>My food stock is not the only one which is emp...</td>\n",
       "      <td>Positive</td>\n",
       "      <td>food stock one empty please panic enough food ...</td>\n",
       "    </tr>\n",
       "    <tr>\n",
       "      <th>4</th>\n",
       "      <td>Me, ready to go at supermarket during the #COV...</td>\n",
       "      <td>Extremely Negative</td>\n",
       "      <td>ready go supermarket outbreak food stock empty...</td>\n",
       "    </tr>\n",
       "  </tbody>\n",
       "</table>\n",
       "</div>"
      ],
      "text/plain": [
       "                                       OriginalTweet           Sentiment  \\\n",
       "0  @MeNyrbie @Phil_Gahan @Chrisitv https://t.co/i...             Neutral   \n",
       "1  advice Talk to your neighbours family to excha...            Positive   \n",
       "2  Coronavirus Australia: Woolworths to give elde...            Positive   \n",
       "3  My food stock is not the only one which is emp...            Positive   \n",
       "4  Me, ready to go at supermarket during the #COV...  Extremely Negative   \n",
       "\n",
       "                                       reduced_tweet  \n",
       "0                                  https https https  \n",
       "1  advice talk family phone numbers create contac...  \n",
       "2  coronavirus australia woolworths give elderly ...  \n",
       "3  food stock one empty please panic enough food ...  \n",
       "4  ready go supermarket outbreak food stock empty...  "
      ]
     },
     "execution_count": 9,
     "metadata": {},
     "output_type": "execute_result"
    }
   ],
   "source": [
    "df.head()"
   ]
  }
 ],
 "metadata": {
  "kernelspec": {
   "display_name": "Python 3",
   "language": "python",
   "name": "python3"
  },
  "language_info": {
   "codemirror_mode": {
    "name": "ipython",
    "version": 3
   },
   "file_extension": ".py",
   "mimetype": "text/x-python",
   "name": "python",
   "nbconvert_exporter": "python",
   "pygments_lexer": "ipython3",
   "version": "3.6.6"
  }
 },
 "nbformat": 4,
 "nbformat_minor": 4
}
