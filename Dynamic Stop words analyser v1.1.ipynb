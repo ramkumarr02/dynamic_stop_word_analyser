{
 "cells": [
  {
   "cell_type": "code",
   "execution_count": 1,
   "metadata": {},
   "outputs": [],
   "source": [
    "import numpy as np\n",
    "import pandas as pd\n",
    "\n",
    "import os, nltk, string, gensim, warnings, pickle\n",
    "\n",
    "from nltk.corpus import stopwords\n",
    "from nltk.tokenize import word_tokenize \n",
    "\n",
    "from sklearn.model_selection import train_test_split\n",
    "from sklearn.feature_extraction.text import CountVectorizer, TfidfVectorizer\n",
    "\n",
    "from sklearn import preprocessing, ensemble, metrics\n",
    "from sklearn.metrics import classification_report\n",
    "\n",
    "import matplotlib.pyplot as plt"
   ]
  },
  {
   "cell_type": "code",
   "execution_count": 2,
   "metadata": {},
   "outputs": [],
   "source": [
    "def csvtotext(df):\n",
    "  text = df.to_csv(sep=' ', index=False, header=False).lower()\n",
    "  return(text)"
   ]
  },
  {
   "cell_type": "code",
   "execution_count": 3,
   "metadata": {},
   "outputs": [],
   "source": [
    "def cleantext(text):\n",
    "    full_tokens = word_tokenize(text)\n",
    "    tokens = [word for word in full_tokens if word.isalpha()]\n",
    "    tokens = [word for word in tokens if len(word)>1]        \n",
    "    return(full_tokens, tokens)"
   ]
  },
  {
   "cell_type": "code",
   "execution_count": 4,
   "metadata": {},
   "outputs": [],
   "source": [
    "def word_freq_analyser(tokens):\n",
    "    freq = nltk.FreqDist(tokens)\n",
    "    freqdf = pd.DataFrame.from_dict(freq,orient='index')\n",
    "    freqdf = freqdf.reset_index()\n",
    "    freqdf = freqdf.rename(columns={'index' : 'word', 0:'count'})\n",
    "    freqdf = freqdf.sort_values(by = ['count'], ascending = False)\n",
    "    freqdf = freqdf.reset_index(drop=True)\n",
    "    freqdf = freqdf.reset_index()\n",
    "    freqdf = freqdf.rename(columns={'index' : 'sno'})\n",
    "    freqdf['sno'] = freqdf['sno'] + 1\n",
    "    freqdf['distinct_word_%'] = freqdf['sno']/len(freqdf['sno']) * 100\n",
    "    freqdf['cumsum'] = freqdf['count'].cumsum()\n",
    "    freqdf['corpus_%'] = freqdf['cumsum'] / freqdf['count'].sum() * 100\n",
    "    \n",
    "    freqdf['distinct_word_%'] = np.round(freqdf['distinct_word_%'], 0)\n",
    "    freqdf['corpus_%'] = np.round(freqdf['corpus_%'], 0)\n",
    "    \n",
    "    small_freq_df = freqdf.drop_duplicates(subset=['corpus_%'], keep = 'first')\n",
    "    \n",
    "    return(freqdf, small_freq_df)    "
   ]
  },
  {
   "cell_type": "code",
   "execution_count": 5,
   "metadata": {},
   "outputs": [],
   "source": [
    "def plot_reverse_elbow_curve(small_freq_df):\n",
    "    x = small_freq_df['distinct_word_%']\n",
    "    y = small_freq_df['corpus_%']\n",
    "\n",
    "    fig, ax = plt.subplots()\n",
    "    fig.set_size_inches(15, 5)\n",
    "\n",
    "\n",
    "    ax.plot(x, y, **{'color': 'lightsteelblue', 'marker': 'o'})\n",
    "    plt.xticks(np.arange(min(x), 100, 2))\n",
    "    plt.yticks(np.arange(min(y), 100, 10))\n",
    "    plt.xlabel ('distinct_word_%')\n",
    "    plt.ylabel ('corpus_%')\n",
    "    return(plt)"
   ]
  },
  {
   "cell_type": "code",
   "execution_count": 6,
   "metadata": {
    "scrolled": false
   },
   "outputs": [],
   "source": [
    "def create_report_df(small_freq_df, freqdf):\n",
    "    df_report = pd.DataFrame()\n",
    "    imp_deciles = list(np.arange(75,101,5))\n",
    "    num_of_words = []\n",
    "    perc_of_dist_words = []\n",
    "\n",
    "    for dec in imp_deciles:\n",
    "        perc_of_dist_words.append(small_freq_df[small_freq_df['corpus_%'] == dec].reset_index()['distinct_word_%'][0])\n",
    "        num_of_words.append(small_freq_df[small_freq_df['corpus_%'] == dec].reset_index()['sno'][0])\n",
    "\n",
    "    df_report['num_of_words'] = num_of_words\n",
    "    df_report['dist_words%'] = perc_of_dist_words\n",
    "    df_report['corpus%'] = imp_deciles\n",
    "    report1 = f'1. Most frequent {df_report[\"num_of_words\"][0]} unique words, which are {df_report[\"dist_words%\"][0]}% of the total distinct words, are contributing to the {df_report[\"corpus%\"][0]}% of the total corpus.'\n",
    "    \n",
    "    dist_word_count_90 = small_freq_df[small_freq_df['corpus_%'] == 90].reset_index()['sno'][0]\n",
    "    dist_word_count_100 = freqdf['sno'].iloc[-1]\n",
    "    dist_word_90_100 = dist_word_count_100 - dist_word_count_90\n",
    "    dist_word_bottom_perc = np.round((dist_word_90_100 / dist_word_count_100)*100,1)\n",
    "    report2 = f'2. Least frequent {dist_word_90_100} unique words, which are {dist_word_bottom_perc}% of the total distinct words, are contributing only to the bottom 10% of the total corpus.'\n",
    "\n",
    "    print(\"---------------------------------- Analysis Results ----------------------------------\")\n",
    "    print(report1)\n",
    "    print(report2)\n",
    "    print(\"--------------------------------------------\")\n",
    "    print(df_report)\n",
    "    print(\"--------------------\")\n",
    "    print('num_of_words : Distinct count of Top-most frequent words')\n",
    "    print('dist_words%  : num_of_words / total distinct words in corpus')\n",
    "    print('corpus%      : Total count of num_of_words / Total number of words in corpus')\n",
    "    print(\"--------------------------------------------\")\n",
    "    return(df_report)"
   ]
  },
  {
   "cell_type": "code",
   "execution_count": 7,
   "metadata": {},
   "outputs": [],
   "source": [
    "def dynamic_stop_word_analyzer(tokens):\n",
    "    freqdf, small_freq_df = word_freq_analyser(tokens)\n",
    "    plt = plot_reverse_elbow_curve(small_freq_df) \n",
    "    df_report = create_report_df(small_freq_df, freqdf)\n",
    "    return(freqdf, small_freq_df, df_report)"
   ]
  },
  {
   "cell_type": "code",
   "execution_count": 8,
   "metadata": {},
   "outputs": [],
   "source": [
    "def get_dynamic_stop_words_list(freqdf, corpus_perc_threshold):\n",
    "    dynamic_stop_words_list = list(freqdf[freqdf['corpus_%'] >= corpus_perc_threshold]['word'])    \n",
    "    return(dynamic_stop_words_list)"
   ]
  },
  {
   "cell_type": "code",
   "execution_count": 9,
   "metadata": {},
   "outputs": [],
   "source": [
    "#...............................................................................................    \n",
    "def send_telegram_message(message_text):  \n",
    "    data = {}\n",
    "    import requests\n",
    "    chat_id = \"-773311834\"\n",
    "    tester_bot_token = \"5237058133:AAH3KdHe4sh95aHrZJXWyTjNxBbUjQAqi4U\"\n",
    "    data['telegram_url'] = \"https://api.telegram.org/bot\"\n",
    "    data['url_for_Chat_id'] = f'{tester_bot_token}/getUpdates'   \n",
    "    \n",
    "    send_message_url = f'{data[\"telegram_url\"]}{tester_bot_token}/sendMessage?chat_id={chat_id}/&text={message_text}'\n",
    "    requests.get(send_message_url)\n",
    "#...............................................................................................  "
   ]
  },
  {
   "cell_type": "code",
   "execution_count": 10,
   "metadata": {},
   "outputs": [],
   "source": [
    "def create_tokens_list_of_list(tokens):   \n",
    "        \n",
    "    sentence = []\n",
    "    message = []\n",
    "    for word in tokens:\n",
    "        if word != '§':\n",
    "            sentence.append(word)\n",
    "        if word == '§':\n",
    "            message.append(sentence)\n",
    "            sentence = []\n",
    "    \n",
    "    joined_message = [' '.join(x) for x in message]    \n",
    "    return(message, joined_message)"
   ]
  },
  {
   "cell_type": "code",
   "execution_count": 11,
   "metadata": {},
   "outputs": [],
   "source": [
    "def remove_stop_words(full_tokens, stop_list):            \n",
    "    \n",
    "    tokens = [word for word in full_tokens if word == \"§\" or word.isalpha()]\n",
    "    tokens = [word for word in tokens if word == \"§\" or len(word)>1]\n",
    "    tokens = [word for word in tokens if word == \"§\" or not word in stop_list]\n",
    "    return(tokens)"
   ]
  },
  {
   "cell_type": "code",
   "execution_count": 12,
   "metadata": {},
   "outputs": [],
   "source": [
    "def tfvect(df, train_x, valid_x):\n",
    "    tf_vect = TfidfVectorizer(max_df = 1.0, min_df = 1)\n",
    "    tf_vect.fit(df['reduced_tweet'])\n",
    "\n",
    "    train_x_tf =  tf_vect.transform(train_x)\n",
    "    valid_x_tf =  tf_vect.transform(valid_x)\n",
    "  \n",
    "#     pd.DataFrame(train_x_tf.A, columns=tf_vect.get_feature_names()).to_csv('tf_vect.csv')\n",
    "#     pickle.dump(tf_vect.vocabulary_,open(\"tffeatures.pkl\",\"wb\"))\n",
    "    \n",
    "    return(train_x_tf,valid_x_tf)"
   ]
  },
  {
   "cell_type": "code",
   "execution_count": 13,
   "metadata": {},
   "outputs": [],
   "source": [
    "def countvect(df, train_x, valid_x):\n",
    "    count_vect = CountVectorizer(max_df = 1.0, min_df = 1)\n",
    "    count_vect.fit(df['reduced_tweet'])\n",
    "\n",
    "    train_x_cv =  count_vect.transform(train_x)\n",
    "    valid_x_cv =  count_vect.transform(valid_x)\n",
    "\n",
    "    #pd.DataFrame(train_x_cv.A, columns=count_vect.get_feature_names()).to_csv('count_vect.csv')\n",
    "    \n",
    "    return(train_x_cv,valid_x_cv,count_vect)"
   ]
  },
  {
   "cell_type": "code",
   "execution_count": 14,
   "metadata": {},
   "outputs": [],
   "source": [
    "def encodelabel(train_y,valid_y):\n",
    "    encoder = preprocessing.LabelEncoder()\n",
    "    train_y_count = encoder.fit_transform(train_y)\n",
    "    valid_y_count = encoder.fit_transform(valid_y)\n",
    "\n",
    "    train_y_map = dict(zip(encoder.transform(encoder.classes_),encoder.classes_))\n",
    "    valid_y_map = dict(zip(encoder.transform(encoder.classes_),encoder.classes_))\n",
    "\n",
    "    print('train_y_map :',train_y_map,)\n",
    "    print('valid_y_map :',valid_y_map)\n",
    "    \n",
    "    return(train_y_count, train_y_map, valid_y_count, valid_y_map)"
   ]
  },
  {
   "cell_type": "code",
   "execution_count": 15,
   "metadata": {},
   "outputs": [],
   "source": [
    "df = pd.read_csv('data/Corona_NLP_train.csv', encoding = \"ISO-8859-1\")\n",
    "\n",
    "df.loc[df['Sentiment'] == 'Extremely Negative', 'Sentiment'] = 'Negative'\n",
    "df.loc[df['Sentiment'] == 'Extremely Positive', 'Sentiment'] = 'Positive'\n",
    "\n",
    "df = df[['OriginalTweet', 'Sentiment']]\n",
    "df['OriginalTweet'] = df['OriginalTweet'] + \" § \""
   ]
  },
  {
   "cell_type": "code",
   "execution_count": 16,
   "metadata": {},
   "outputs": [],
   "source": [
    "text = csvtotext(df['OriginalTweet'])\n",
    "full_tokens, tokens = cleantext(text)"
   ]
  },
  {
   "cell_type": "code",
   "execution_count": 17,
   "metadata": {},
   "outputs": [
    {
     "name": "stdout",
     "output_type": "stream",
     "text": [
      "---------------------------------- Analysis Results ----------------------------------\n",
      "1. Most frequent 859 unique words, which are 2.0% of the total distinct words, are contributing to the 75% of the total corpus.\n",
      "2. Least frequent 45536 unique words, which are 92.0% of the total distinct words, are contributing only to the bottom 10% of the total corpus.\n",
      "--------------------------------------------\n",
      "   num_of_words  dist_words%  corpus%\n",
      "0           859          2.0       75\n",
      "1          1347          3.0       80\n",
      "2          2204          4.0       85\n",
      "3          3961          8.0       90\n",
      "4          9206         19.0       95\n",
      "5         43746         88.0      100\n",
      "--------------------\n",
      "num_of_words : Distinct count of Top-most frequent words\n",
      "dist_words%  : num_of_words / total distinct words in corpus\n",
      "corpus%      : Total count of num_of_words / Total number of words in corpus\n",
      "--------------------------------------------\n"
     ]
    },
    {
     "data": {
      "image/png": "[encoded data removed]",
      "text/plain": [
       "<Figure size 1080x360 with 1 Axes>"
      ]
     },
     "metadata": {
      "needs_background": "light"
     },
     "output_type": "display_data"
    }
   ],
   "source": [
    "freqdf, small_freq_df, df_report = dynamic_stop_word_analyzer(tokens)"
   ]
  },
  {
   "cell_type": "code",
   "execution_count": 18,
   "metadata": {},
   "outputs": [],
   "source": [
    "corpus_perc_threshold = 90\n",
    "\n",
    "dynamic_stop_words_list = get_dynamic_stop_words_list(freqdf, corpus_perc_threshold)"
   ]
  },
  {
   "cell_type": "markdown",
   "metadata": {},
   "source": [
    "tokens = remove_stop_words(full_tokens, dynamic_stop_words_list)\n",
    "message, joined_message = create_tokens_list_of_list(tokens)"
   ]
  },
  {
   "cell_type": "markdown",
   "metadata": {},
   "source": [
    "### Modelling"
   ]
  },
  {
   "cell_type": "code",
   "execution_count": 19,
   "metadata": {
    "scrolled": true
   },
   "outputs": [
    {
     "name": "stdout",
     "output_type": "stream",
     "text": [
      "Wall time: 1.98 s\n"
     ]
    }
   ],
   "source": [
    "%%time\n",
    "nltk_stopwords = stopwords.words('english')\n",
    "\n",
    "tokens = remove_stop_words(full_tokens, nltk_stopwords)\n",
    "message, joined_message = create_tokens_list_of_list(tokens)"
   ]
  },
  {
   "cell_type": "code",
   "execution_count": 20,
   "metadata": {},
   "outputs": [],
   "source": [
    "df['reduced_tweet'] = joined_message\n",
    "# df[-100:].to_csv('data/temp.csv')\n",
    "# send_telegram_message('run complete')"
   ]
  },
  {
   "cell_type": "code",
   "execution_count": 21,
   "metadata": {
    "scrolled": true
   },
   "outputs": [],
   "source": [
    "train_x, valid_x, train_y, valid_y = train_test_split(df['reduced_tweet'], df['Sentiment'],train_size = 0.8,random_state = 1)"
   ]
  },
  {
   "cell_type": "code",
   "execution_count": 22,
   "metadata": {},
   "outputs": [
    {
     "name": "stdout",
     "output_type": "stream",
     "text": [
      "train_y_map : {0: 'Negative', 1: 'Neutral', 2: 'Positive'}\n",
      "valid_y_map : {0: 'Negative', 1: 'Neutral', 2: 'Positive'}\n"
     ]
    }
   ],
   "source": [
    "train_y_count, train_y_map, valid_y_count, valid_y_map = encodelabel(train_y,valid_y)"
   ]
  },
  {
   "cell_type": "code",
   "execution_count": 23,
   "metadata": {
    "scrolled": true
   },
   "outputs": [
    {
     "name": "stdout",
     "output_type": "stream",
     "text": [
      "Wall time: 2min 12s\n"
     ]
    },
    {
     "data": {
      "text/plain": [
       "0.7354227405247813"
      ]
     },
     "execution_count": 23,
     "metadata": {},
     "output_type": "execute_result"
    }
   ],
   "source": [
    "%%time\n",
    "train_x_tf, valid_x_tf = tfvect(df, train_x, valid_x)\n",
    "clf = ensemble.RandomForestClassifier().fit(train_x_tf, train_y_count)\n",
    "predictions = clf.predict(valid_x_tf)\n",
    "acc = metrics.accuracy_score(predictions, valid_y_count)   \n",
    "acc"
   ]
  },
  {
   "cell_type": "code",
   "execution_count": 24,
   "metadata": {
    "scrolled": true
   },
   "outputs": [
    {
     "name": "stdout",
     "output_type": "stream",
     "text": [
      "Wall time: 2min 21s\n"
     ]
    },
    {
     "data": {
      "text/plain": [
       "0.749514091350826"
      ]
     },
     "execution_count": 24,
     "metadata": {},
     "output_type": "execute_result"
    }
   ],
   "source": [
    "%%time\n",
    "train_x_cv, valid_x_cv, cvect = countvect(df, train_x, valid_x)\n",
    "clf = ensemble.RandomForestClassifier().fit(train_x_cv, train_y_count)\n",
    "predictions = clf.predict(valid_x_cv)   \n",
    "acc = metrics.accuracy_score(predictions, valid_y_count)   \n",
    "acc"
   ]
  },
  {
   "cell_type": "markdown",
   "metadata": {},
   "source": [
    "# --------------------------------------------"
   ]
  },
  {
   "cell_type": "code",
   "execution_count": null,
   "metadata": {
    "scrolled": true
   },
   "outputs": [],
   "source": [
    "%%time\n",
    "nltk_stopwords = stopwords.words('english')\n",
    "\n",
    "tokens = remove_stop_words(full_tokens, nltk_stopwords)\n",
    "tokens = remove_stop_words(tokens, dynamic_stop_words_list)\n",
    "message, joined_message = create_tokens_list_of_list(tokens)"
   ]
  },
  {
   "cell_type": "code",
   "execution_count": null,
   "metadata": {},
   "outputs": [],
   "source": [
    "df['reduced_tweet'] = joined_message\n",
    "# df[-100:].to_csv('data/temp.csv')\n",
    "# send_telegram_message('run complete')"
   ]
  },
  {
   "cell_type": "code",
   "execution_count": null,
   "metadata": {
    "scrolled": true
   },
   "outputs": [],
   "source": [
    "train_x, valid_x, train_y, valid_y = train_test_split(df['reduced_tweet'], df['Sentiment'],train_size = 0.8,random_state = 1)"
   ]
  },
  {
   "cell_type": "code",
   "execution_count": null,
   "metadata": {},
   "outputs": [],
   "source": [
    "train_y_count, train_y_map, valid_y_count, valid_y_map = encodelabel(train_y,valid_y)"
   ]
  },
  {
   "cell_type": "code",
   "execution_count": null,
   "metadata": {
    "scrolled": true
   },
   "outputs": [],
   "source": [
    "%%time\n",
    "train_x_tf, valid_x_tf = tfvect(df, train_x, valid_x)\n",
    "clf = ensemble.RandomForestClassifier().fit(train_x_tf, train_y_count)\n",
    "predictions = clf.predict(valid_x_tf)    \n",
    "acc = metrics.accuracy_score(predictions, valid_y_count)   \n",
    "acc"
   ]
  },
  {
   "cell_type": "code",
   "execution_count": null,
   "metadata": {
    "scrolled": true
   },
   "outputs": [],
   "source": [
    "%%time\n",
    "train_x_cv, valid_x_cv, cvect = countvect(df, train_x, valid_x)\n",
    "clf = ensemble.RandomForestClassifier().fit(train_x_cv, train_y_count)\n",
    "predictions = clf.predict(valid_x_cv)   \n",
    "acc = metrics.accuracy_score(predictions, valid_y_count)   \n",
    "acc"
   ]
  }
 ],
 "metadata": {
  "kernelspec": {
   "display_name": "Python 3",
   "language": "python",
   "name": "python3"
  },
  "language_info": {
   "codemirror_mode": {
    "name": "ipython",
    "version": 3
   },
   "file_extension": ".py",
   "mimetype": "text/x-python",
   "name": "python",
   "nbconvert_exporter": "python",
   "pygments_lexer": "ipython3",
   "version": "3.6.6"
  }
 },
 "nbformat": 4,
 "nbformat_minor": 4
}
